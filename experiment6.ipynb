{
 "cells": [
  {
   "cell_type": "markdown",
   "metadata": {},
   "source": [
    "# Playfair Cipher"
   ]
  },
  {
   "cell_type": "markdown",
   "metadata": {},
   "source": [
    "#### hint : https://medium.com/analytics-vidhya/play-fair-cipher-encryption-using-python3-f91c42931f52 <br> http://python.algorithmexamples.com/web/ciphers/playfair_cipher.html <br> https://newbedev.com/python-playfair-cipher-python-code-example"
   ]
  },
  {
   "cell_type": "code",
   "execution_count": 1,
   "metadata": {},
   "outputs": [
    {
     "name": "stdout",
     "output_type": "stream",
     "text": [
      "Enter keyMONARCHY\n"
     ]
    }
   ],
   "source": [
    "key=input(\"Enter key\")\n",
    "key=key.replace(\" \", \"\")\n",
    "key=key.upper()\n",
    "def matrix(x,y,initial):\n",
    "    return [[initial for i in range(x)] for j in range(y)]\n",
    "    \n",
    "result=list()\n",
    "for c in key: #storing key\n",
    "    if c not in result:\n",
    "        if c=='J':\n",
    "            result.append('I')\n",
    "        else:\n",
    "            result.append(c)\n",
    "flag=0\n",
    "for i in range(65,91): #storing other character\n",
    "    if chr(i) not in result:\n",
    "        if i==73 and chr(74) not in result:\n",
    "            result.append(\"I\")\n",
    "            flag=1\n",
    "        elif flag==0 and i==73 or i==74:\n",
    "            pass    \n",
    "        else:\n",
    "            result.append(chr(i))\n",
    "k=0\n",
    "my_matrix=matrix(5,5,0) #initialize matrix\n",
    "for i in range(0,5): #making matrix\n",
    "    for j in range(0,5):\n",
    "        my_matrix[i][j]=result[k]\n",
    "        k+=1\n",
    "\n",
    "def locindex(c): #get location of each character\n",
    "    loc=list()\n",
    "    if c=='J':\n",
    "        c='I'\n",
    "    for i ,j in enumerate(my_matrix):\n",
    "        for k,l in enumerate(j):\n",
    "            if c==l:\n",
    "                loc.append(i)\n",
    "                loc.append(k)\n",
    "                return loc\n",
    "            \n",
    "def encrypt():  #Encryption\n",
    "    msg=str(input(\"ENTER MSG:\"))\n",
    "    msg=msg.upper()\n",
    "    msg=msg.replace(\" \", \"\")             \n",
    "    i=0\n",
    "    for s in range(0,len(msg)+1,2):\n",
    "        if s<len(msg)-1:\n",
    "            if msg[s]==msg[s+1]:\n",
    "                msg=msg[:s+1]+'X'+msg[s+1:]\n",
    "    if len(msg)%2!=0:\n",
    "        msg=msg[:]+'X'\n",
    "    print(\"CIPHER TEXT:\",end=' ')\n",
    "    while i<len(msg):\n",
    "        loc=list()\n",
    "        loc=locindex(msg[i])\n",
    "        loc1=list()\n",
    "        loc1=locindex(msg[i+1])\n",
    "        if loc[1]==loc1[1]:\n",
    "            print(\"{}{}\".format(my_matrix[(loc[0]+1)%5][loc[1]],my_matrix[(loc1[0]+1)%5][loc1[1]]),end=' ')\n",
    "        elif loc[0]==loc1[0]:\n",
    "            print(\"{}{}\".format(my_matrix[loc[0]][(loc[1]+1)%5],my_matrix[loc1[0]][(loc1[1]+1)%5]),end=' ')  \n",
    "        else:\n",
    "            print(\"{}{}\".format(my_matrix[loc[0]][loc1[1]],my_matrix[loc1[0]][loc[1]]),end=' ')    \n",
    "        i=i+2        \n",
    "                 \n",
    "def decrypt():  #decryption\n",
    "    msg=str(input(\"ENTER CIPHER TEXT:\"))\n",
    "    msg=msg.upper()\n",
    "    msg=msg.replace(\" \", \"\")\n",
    "    print(\"PLAIN TEXT:\",end=' ')\n",
    "    i=0\n",
    "    while i<len(msg):\n",
    "        loc=list()\n",
    "        loc=locindex(msg[i])\n",
    "        loc1=list()\n",
    "        loc1=locindex(msg[i+1])\n",
    "        if loc[1]==loc1[1]:\n",
    "            print(\"{}{}\".format(my_matrix[(loc[0]-1)%5][loc[1]],my_matrix[(loc1[0]-1)%5][loc1[1]]),end=' ')\n",
    "        elif loc[0]==loc1[0]:\n",
    "            print(\"{}{}\".format(my_matrix[loc[0]][(loc[1]-1)%5],my_matrix[loc1[0]][(loc1[1]-1)%5]),end=' ')  \n",
    "        else:\n",
    "            print(\"{}{}\".format(my_matrix[loc[0]][loc1[1]],my_matrix[loc1[0]][loc[1]]),end=' ')    \n",
    "        i=i+2        "
   ]
  },
  {
   "cell_type": "code",
   "execution_count": 2,
   "metadata": {},
   "outputs": [
    {
     "name": "stdout",
     "output_type": "stream",
     "text": [
      "encryption\n",
      "ENTER MSG:INSTRUMENTS\n",
      "CIPHER TEXT: GA TL MZ CL RQ XA "
     ]
    }
   ],
   "source": [
    "print('encryption')\n",
    "encrypt()"
   ]
  },
  {
   "cell_type": "code",
   "execution_count": 4,
   "metadata": {},
   "outputs": [
    {
     "name": "stdout",
     "output_type": "stream",
     "text": [
      "decryption\n",
      "ENTER CIPHER TEXT:GATLMZCLRQXA\n",
      "PLAIN TEXT: IN ST RU ME NT SX "
     ]
    }
   ],
   "source": [
    "print('decryption')\n",
    "decrypt()"
   ]
  },
  {
   "cell_type": "code",
   "execution_count": null,
   "metadata": {},
   "outputs": [],
   "source": []
  }
 ],
 "metadata": {
  "kernelspec": {
   "display_name": "Python 3",
   "language": "python",
   "name": "python3"
  },
  "language_info": {
   "codemirror_mode": {
    "name": "ipython",
    "version": 3
   },
   "file_extension": ".py",
   "mimetype": "text/x-python",
   "name": "python",
   "nbconvert_exporter": "python",
   "pygments_lexer": "ipython3",
   "version": "3.8.5"
  }
 },
 "nbformat": 4,
 "nbformat_minor": 4
}
