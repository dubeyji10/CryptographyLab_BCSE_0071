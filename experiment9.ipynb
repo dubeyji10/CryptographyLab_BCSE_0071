{
 "cells": [
  {
   "cell_type": "markdown",
   "metadata": {},
   "source": [
    "## Keyed Transposition Cipher"
   ]
  },
  {
   "cell_type": "code",
   "execution_count": 1,
   "metadata": {},
   "outputs": [],
   "source": [
    "def createEncMatrix(width, message):\n",
    "    r = 0\n",
    "    c = 0\n",
    "    matrix = [[]]\n",
    "    for pos, ch in enumerate(message):\n",
    "        matrix[r].append(ch)\n",
    "        c += 1\n",
    "        if c >= width:\n",
    "            c = 0\n",
    "            r += 1\n",
    "            matrix.append([])\n",
    "\n",
    "    return matrix"
   ]
  },
  {
   "cell_type": "code",
   "execution_count": 2,
   "metadata": {},
   "outputs": [],
   "source": [
    "\n",
    "def getKeywordSequence(keyword):\n",
    "    sequence = []\n",
    "    for pos, ch in enumerate(keyword):\n",
    "        previousLetters = keyword[:pos]\n",
    "        newNumber = 1\n",
    "        for previousPos, previousCh in enumerate(previousLetters):\n",
    "            if previousCh > ch:\n",
    "                sequence[previousPos] += 1\n",
    "            else:\n",
    "                newNumber += 1\n",
    "        sequence.append(newNumber)\n",
    "    return sequence"
   ]
  },
  {
   "cell_type": "code",
   "execution_count": 3,
   "metadata": {},
   "outputs": [],
   "source": [
    "def encrypt(message, keyword):\n",
    "    matrix = createEncMatrix(len(keyword), message)\n",
    "    keywordSequence = getKeywordSequence(keyword)\n",
    "\n",
    "    ciphertext = \"\";\n",
    "    for num in range(len(keywordSequence)):\n",
    "        pos = keywordSequence.index(num+1)\n",
    "        for row in range(len(matrix)):\n",
    "            if len(matrix[row]) > pos:\n",
    "                ciphertext += matrix[row][pos]\n",
    "    return ciphertext\n"
   ]
  },
  {
   "cell_type": "code",
   "execution_count": 4,
   "metadata": {},
   "outputs": [],
   "source": [
    "\n",
    "def createDecrMatrix(keywordSequence, message):\n",
    "    width = len(keywordSequence)\n",
    "    height = len(message) / width\n",
    "    if height * width < len(message):\n",
    "        height += 1\n",
    "\n",
    "    matrix = createEmptyMatrix(width, height, len(message))\n",
    "\n",
    "    pos = 0\n",
    "    for num in range(len(keywordSequence)):\n",
    "        column = keywordSequence.index(num+1)\n",
    "\n",
    "        r = 0\n",
    "        while (r < len(matrix)) and (len(matrix[r]) > column):\n",
    "            matrix[r][column] = message[pos]\n",
    "            r += 1\n",
    "            pos += 1\n",
    "\n",
    "    return matrix\n"
   ]
  },
  {
   "cell_type": "code",
   "execution_count": 5,
   "metadata": {},
   "outputs": [],
   "source": [
    "def createEmptyMatrix(width, height, length):\n",
    "    matrix = []\n",
    "    totalAdded = 0\n",
    "    for r in range(height):\n",
    "        matrix.append([])\n",
    "    for c in range(width):\n",
    "        if totalAdded >= length:\n",
    "                return matrix\n",
    "        matrix[r].append('')\n",
    "        totalAdded += 1\n",
    "    return matrix\n"
   ]
  },
  {
   "cell_type": "code",
   "execution_count": 6,
   "metadata": {},
   "outputs": [],
   "source": [
    "def getKeywordSequence(keyword):\n",
    "    sequence = []\n",
    "    for pos, ch in enumerate(keyword):\n",
    "        previousLetters = keyword[:pos]\n",
    "        newNumber = 1\n",
    "    for previousPos, previousCh in enumerate(previousLetters):\n",
    "        if previousCh > ch:\n",
    "            sequence[previousPos] += 1\n",
    "        else:\n",
    "            newNumber += 1\n",
    "        sequence.append(newNumber)\n",
    "    return sequence"
   ]
  },
  {
   "cell_type": "code",
   "execution_count": 7,
   "metadata": {},
   "outputs": [],
   "source": [
    "def decrypt(message, keyword):\n",
    "    matrix = createDecrMatrix(getKeywordSequence(keyword), message)\n",
    "\n",
    "    plaintext = \"\";\n",
    "    for r in range(len(matrix)):\n",
    "        for c in range (len(matrix[r])):\n",
    "            plaintext += matrix[r][c]\n",
    "    return plaintext\n"
   ]
  },
  {
   "cell_type": "code",
   "execution_count": 8,
   "metadata": {},
   "outputs": [
    {
     "ename": "ValueError",
     "evalue": "1 is not in list",
     "output_type": "error",
     "traceback": [
      "\u001b[0;31m---------------------------------------------------------------------------\u001b[0m",
      "\u001b[0;31mValueError\u001b[0m                                Traceback (most recent call last)",
      "\u001b[0;32m<ipython-input-8-4537a9f5b328>\u001b[0m in \u001b[0;36m<module>\u001b[0;34m\u001b[0m\n\u001b[0;32m----> 1\u001b[0;31m \u001b[0mencrypt\u001b[0m\u001b[0;34m(\u001b[0m\u001b[0;34m'geeksforgeeks'\u001b[0m\u001b[0;34m,\u001b[0m\u001b[0;34m'hack'\u001b[0m\u001b[0;34m)\u001b[0m\u001b[0;34m\u001b[0m\u001b[0;34m\u001b[0m\u001b[0m\n\u001b[0m",
      "\u001b[0;32m<ipython-input-3-a08b82a177b8>\u001b[0m in \u001b[0;36mencrypt\u001b[0;34m(message, keyword)\u001b[0m\n\u001b[1;32m      5\u001b[0m     \u001b[0mciphertext\u001b[0m \u001b[0;34m=\u001b[0m \u001b[0;34m\"\"\u001b[0m\u001b[0;34m;\u001b[0m\u001b[0;34m\u001b[0m\u001b[0;34m\u001b[0m\u001b[0m\n\u001b[1;32m      6\u001b[0m     \u001b[0;32mfor\u001b[0m \u001b[0mnum\u001b[0m \u001b[0;32min\u001b[0m \u001b[0mrange\u001b[0m\u001b[0;34m(\u001b[0m\u001b[0mlen\u001b[0m\u001b[0;34m(\u001b[0m\u001b[0mkeywordSequence\u001b[0m\u001b[0;34m)\u001b[0m\u001b[0;34m)\u001b[0m\u001b[0;34m:\u001b[0m\u001b[0;34m\u001b[0m\u001b[0;34m\u001b[0m\u001b[0m\n\u001b[0;32m----> 7\u001b[0;31m         \u001b[0mpos\u001b[0m \u001b[0;34m=\u001b[0m \u001b[0mkeywordSequence\u001b[0m\u001b[0;34m.\u001b[0m\u001b[0mindex\u001b[0m\u001b[0;34m(\u001b[0m\u001b[0mnum\u001b[0m\u001b[0;34m+\u001b[0m\u001b[0;36m1\u001b[0m\u001b[0;34m)\u001b[0m\u001b[0;34m\u001b[0m\u001b[0;34m\u001b[0m\u001b[0m\n\u001b[0m\u001b[1;32m      8\u001b[0m         \u001b[0;32mfor\u001b[0m \u001b[0mrow\u001b[0m \u001b[0;32min\u001b[0m \u001b[0mrange\u001b[0m\u001b[0;34m(\u001b[0m\u001b[0mlen\u001b[0m\u001b[0;34m(\u001b[0m\u001b[0mmatrix\u001b[0m\u001b[0;34m)\u001b[0m\u001b[0;34m)\u001b[0m\u001b[0;34m:\u001b[0m\u001b[0;34m\u001b[0m\u001b[0;34m\u001b[0m\u001b[0m\n\u001b[1;32m      9\u001b[0m             \u001b[0;32mif\u001b[0m \u001b[0mlen\u001b[0m\u001b[0;34m(\u001b[0m\u001b[0mmatrix\u001b[0m\u001b[0;34m[\u001b[0m\u001b[0mrow\u001b[0m\u001b[0;34m]\u001b[0m\u001b[0;34m)\u001b[0m \u001b[0;34m>\u001b[0m \u001b[0mpos\u001b[0m\u001b[0;34m:\u001b[0m\u001b[0;34m\u001b[0m\u001b[0;34m\u001b[0m\u001b[0m\n",
      "\u001b[0;31mValueError\u001b[0m: 1 is not in list"
     ]
    }
   ],
   "source": [
    "encrypt('geeksforgeeks','hack')"
   ]
  },
  {
   "cell_type": "code",
   "execution_count": null,
   "metadata": {},
   "outputs": [],
   "source": []
  }
 ],
 "metadata": {
  "kernelspec": {
   "display_name": "Python 3",
   "language": "python",
   "name": "python3"
  },
  "language_info": {
   "codemirror_mode": {
    "name": "ipython",
    "version": 3
   },
   "file_extension": ".py",
   "mimetype": "text/x-python",
   "name": "python",
   "nbconvert_exporter": "python",
   "pygments_lexer": "ipython3",
   "version": "3.8.5"
  }
 },
 "nbformat": 4,
 "nbformat_minor": 4
}
