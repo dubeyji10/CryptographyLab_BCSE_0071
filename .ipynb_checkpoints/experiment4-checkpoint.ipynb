{
 "cells": [
  {
   "cell_type": "markdown",
   "metadata": {},
   "source": [
    "# Write a program to implement Vigenere Cipher"
   ]
  },
  {
   "cell_type": "code",
   "execution_count": 1,
   "metadata": {},
   "outputs": [],
   "source": [
    "vig = \"abcdefghijklmnopqrstuvwxyz\"\n",
    " \n",
    "\n",
    "def Encrypt(Keyword, Text): \n",
    "    Key = GenerateKey(Keyword, len(Text))\n",
    "    return GenerateCipher(Key, Text)\n",
    " \n",
    "def Decrypt(Keyword, Text): \n",
    "    Key = GenerateKey(Keyword, len(Text))\n",
    "    return RecoverText(Key, Text)\n",
    " \n",
    "def GenerateKey(keyword, length): \n",
    "    rkeyword = keyword\n",
    "    #initialize keyword\n",
    "    while True: #infinate loop\n",
    "        rkeyword+=keyword \n",
    "        if(len(rkeyword)>length): \n",
    "            break \n",
    "    return rkeyword[:length]\n",
    " \n",
    "def GenerateCipher(Key,Text): \n",
    "    i = 0 \n",
    "    Cipher = ''\n",
    "    while(i<len(Text)):\n",
    "        Cipher += GetCipherChar(Key[i],Text[i])\n",
    "        #generate cipher char\n",
    "        i += 1 \n",
    "    return Cipher\n",
    " \n",
    "#!Decryption function\n",
    "def RecoverText(Key,Cipher): \n",
    "    i = 0\n",
    "    Text = ''\n",
    "    while(i<len(Cipher)): \n",
    "        Text += GetTextChar(Key[i],Cipher[i])\n",
    "        #Recover text char\n",
    "        i += 1\n",
    "    return Text\n",
    " \n",
    "def GetCipherChar(KeyChar,TextChar):\n",
    "    shift = MakeVigenereShift(KeyChar)\n",
    "    #make a vigenere shift using the keyword char\n",
    "    TextCharPos = vig.find(TextChar)\n",
    "    #get the position in vigenere of text char\n",
    "    return shift[TextCharPos]\n",
    "    #get the shift char at position of text char (Cipher Char)\n",
    "    \n",
    "#!Decryption function\n",
    "def GetTextChar(KeyChar,CipherChar): \n",
    "    shift = MakeVigenereShift(KeyChar)\n",
    "    #make a vigenere shift using the keyword char\n",
    "    CipherCharPos = shift.find(CipherChar)\n",
    "    #Get the position of the cipher char in shift\n",
    "    return vig[CipherCharPos]\n",
    "    #find original text char using cipher char position\n",
    "    \n",
    "def MakeVigenereShift(char): \n",
    "    pos = vig.find(char)#get the position of char in vigenere\n",
    "    return vig[pos:] + vig[:pos]#split vigenere (make a shift)\n"
   ]
  },
  {
   "cell_type": "code",
   "execution_count": 2,
   "metadata": {},
   "outputs": [],
   "source": [
    "\n",
    "glbText = \"Imagination is more important than knowledge\"\n",
    "\n",
    "glbKeyword = \"orchestra\"\n",
    "\n",
    "\n",
    "def Main():\n",
    "    print(\"Text: \"+glbText) \n",
    "    cipher = Encrypt(glbKeyword, glbText.lower()) \n",
    "    print(\"Encrypted: \"+cipher) \n",
    "    text = Decrypt(glbKeyword, cipher.lower()) \n",
    "    print(\"Decrypted: \"+text.upper())\n",
    "    "
   ]
  },
  {
   "cell_type": "code",
   "execution_count": 3,
   "metadata": {},
   "outputs": [
    {
     "name": "stdout",
     "output_type": "stream",
     "text": [
      "Text: Imagination is more important than knowledge\n",
      "Encrypted: wdcnmftkicebpwrffrsqkttgkkabkbalsgqkbfysivzv\n",
      "Decrypted: IMAGINATIONZISZMOREZIMPORTANTZTHANZKNOWLEDGE\n"
     ]
    }
   ],
   "source": [
    "Main()"
   ]
  },
  {
   "cell_type": "code",
   "execution_count": null,
   "metadata": {},
   "outputs": [],
   "source": []
  }
 ],
 "metadata": {
  "kernelspec": {
   "display_name": "Python 3",
   "language": "python",
   "name": "python3"
  },
  "language_info": {
   "codemirror_mode": {
    "name": "ipython",
    "version": 3
   },
   "file_extension": ".py",
   "mimetype": "text/x-python",
   "name": "python",
   "nbconvert_exporter": "python",
   "pygments_lexer": "ipython3",
   "version": "3.8.5"
  }
 },
 "nbformat": 4,
 "nbformat_minor": 4
}
