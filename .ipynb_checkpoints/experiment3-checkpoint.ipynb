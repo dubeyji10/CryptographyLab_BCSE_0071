{
 "cells": [
  {
   "cell_type": "code",
   "execution_count": 1,
   "metadata": {},
   "outputs": [
    {
     "name": "stdout",
     "output_type": "stream",
     "text": [
      "{'A': 0, 'B': 1, 'C': 2, 'D': 3, 'E': 4, 'F': 5, 'G': 6, 'H': 7, 'I': 8, 'J': 9, 'K': 10, 'L': 11, 'M': 12, 'N': 13, 'O': 14, 'P': 15, 'Q': 16, 'R': 17, 'S': 18, 'T': 19, 'U': 20, 'V': 21, 'W': 22, 'X': 23, 'Y': 24, 'Z': 25} \n",
      " ------------------------------------------- \n",
      " {0: 'A', 1: 'B', 2: 'C', 3: 'D', 4: 'E', 5: 'F', 6: 'G', 7: 'H', 8: 'I', 9: 'J', 10: 'K', 11: 'L', 12: 'M', 13: 'N', 14: 'O', 15: 'P', 16: 'Q', 17: 'R', 18: 'S', 19: 'T', 20: 'U', 21: 'V', 22: 'W', 23: 'X', 24: 'Y', 25: 'Z'}\n"
     ]
    }
   ],
   "source": [
    "dict1 = {chr(65+i):i for i in range(26)}\n",
    "dict2 = {i: chr(65+i) for i in range(26)}\n",
    "print(dict1,'\\n','-'*43,'\\n',dict2)"
   ]
  },
  {
   "cell_type": "code",
   "execution_count": 2,
   "metadata": {},
   "outputs": [],
   "source": [
    "\n",
    "# Key values\n",
    "a = 3\n",
    "b = 7\n",
    "\n",
    "# Funtion to encrypt message\n",
    "def Encrypt(msg):\n",
    "    cipher = ''\n",
    "    for letter in msg:\n",
    "        if letter == ' ':\n",
    "            cipher += ' '\n",
    "        else:\n",
    "            z = (a*dict1[letter] + b) % 26\n",
    "            cipher += dict2[z]\n",
    "\n",
    "    return cipher\n",
    "# Funtion to decrypt cipher\n",
    "def Decrypt(cipher):\n",
    "    message = ''\n",
    "    a_inv = 0\n",
    "    flag = 0\n",
    "    # Find a^-1, the multiplicative inverse of a\n",
    "    # in the group of integers modulo m.\n",
    "    # Here m=26\n",
    "    for i in range(26):\n",
    "        flag = (a*i) % 26\n",
    "        if flag == 1:\n",
    "            a_inv = i\n",
    "            break\n",
    "\n",
    "    for letter in cipher:\n",
    "        if letter == ' ':\n",
    "            message += ' '\n",
    "        else:\n",
    "            z = (a_inv*(dict1[letter]-b)) % 26\n",
    "            message += dict2[z]\n",
    "\n",
    "    return message\n"
   ]
  },
  {
   "cell_type": "code",
   "execution_count": 3,
   "metadata": {},
   "outputs": [
    {
     "name": "stdout",
     "output_type": "stream",
     "text": [
      "SAIL -> JHFO -> SAIL\n"
     ]
    }
   ],
   "source": [
    "msg = \"SAIL\"\n",
    "cipherText = Encrypt(msg)\n",
    "#     print(cipherText)\n",
    "\n",
    "originalText = Decrypt(cipherText)\n",
    "print(msg,'->',cipherText,'->',originalText)\n"
   ]
  },
  {
   "cell_type": "code",
   "execution_count": null,
   "metadata": {},
   "outputs": [],
   "source": []
  }
 ],
 "metadata": {
  "kernelspec": {
   "display_name": "Python 3",
   "language": "python",
   "name": "python3"
  },
  "language_info": {
   "codemirror_mode": {
    "name": "ipython",
    "version": 3
   },
   "file_extension": ".py",
   "mimetype": "text/x-python",
   "name": "python",
   "nbconvert_exporter": "python",
   "pygments_lexer": "ipython3",
   "version": "3.8.5"
  }
 },
 "nbformat": 4,
 "nbformat_minor": 4
}
