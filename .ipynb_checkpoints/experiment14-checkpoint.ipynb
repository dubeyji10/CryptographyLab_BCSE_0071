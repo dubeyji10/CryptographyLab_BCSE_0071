{
 "cells": [
  {
   "cell_type": "markdown",
   "metadata": {},
   "source": [
    "##### A program to find the GCD of two numbers by using Extended-Euclidean algorithm."
   ]
  },
  {
   "cell_type": "code",
   "execution_count": 2,
   "metadata": {},
   "outputs": [],
   "source": [
    "# Extended Euclidean algorithm\n",
    "def eea(a, b):\n",
    "    x = ly = 0\n",
    "    y = lx = 1\n",
    "\n",
    "    while b != 0:\n",
    "        q, r = a / b, a % b\n",
    "        a, b, x, lx, y, ly = b, r, lx - x*q, x, ly - y*q, y\n",
    "\n",
    "    return a, lx, ly"
   ]
  },
  {
   "cell_type": "code",
   "execution_count": 6,
   "metadata": {},
   "outputs": [],
   "source": [
    "# defuld Euclidean algorithm\n",
    "def gcd(first_number, second_number):\n",
    "\tif first_number == second_number:\n",
    "\t\treturn first_number \n",
    "\n",
    "\tif first_number == 0:\n",
    "\t\treturn second_number \n",
    "\tif second_number == 0:\n",
    "\t\treturn first_number \n",
    "\n",
    "\ta = first_number\n",
    "\tb = second_number\n",
    "\tif first_number < second_number:\n",
    "\t\ta, b = b, a\n",
    "\n",
    "\treturn gcd(second_number, a % b)\n",
    "\n",
    "\n",
    "# extended Euclidean algorithm\n",
    "def extended_gcd(first_number, second_number):\n",
    "\tx, y, u, v = 0, 1, 1, 0\n",
    "\twhile first_number:\n",
    "\t    q, r = second_number // first_number, second_number % first_number\n",
    "\t    m, n = x - u * q, y - v * q\n",
    "\t    second_number, first_number, x, y, u, v = first_number, r, u, v, m, n\n",
    "\tgcd = second_number\n",
    "\treturn gcd, x, y\n"
   ]
  },
  {
   "cell_type": "code",
   "execution_count": 9,
   "metadata": {},
   "outputs": [
    {
     "data": {
      "text/plain": [
       "(121, 0, 1)"
      ]
     },
     "execution_count": 9,
     "metadata": {},
     "output_type": "execute_result"
    }
   ],
   "source": [
    "extended_gcd(1234321,121)"
   ]
  },
  {
   "cell_type": "code",
   "execution_count": 10,
   "metadata": {},
   "outputs": [
    {
     "data": {
      "text/plain": [
       "(121, 0, 1)"
      ]
     },
     "execution_count": 10,
     "metadata": {},
     "output_type": "execute_result"
    }
   ],
   "source": [
    "eea(1234321,121)"
   ]
  },
  {
   "cell_type": "code",
   "execution_count": null,
   "metadata": {},
   "outputs": [],
   "source": []
  }
 ],
 "metadata": {
  "kernelspec": {
   "display_name": "Python 3",
   "language": "python",
   "name": "python3"
  },
  "language_info": {
   "codemirror_mode": {
    "name": "ipython",
    "version": 3
   },
   "file_extension": ".py",
   "mimetype": "text/x-python",
   "name": "python",
   "nbconvert_exporter": "python",
   "pygments_lexer": "ipython3",
   "version": "3.8.5"
  }
 },
 "nbformat": 4,
 "nbformat_minor": 4
}
