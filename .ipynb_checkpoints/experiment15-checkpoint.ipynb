{
 "cells": [
  {
   "cell_type": "markdown",
   "metadata": {},
   "source": [
    "#### A program for Chinese Remainder Theorem"
   ]
  },
  {
   "cell_type": "code",
   "execution_count": 1,
   "metadata": {},
   "outputs": [
    {
     "name": "stdout",
     "output_type": "stream",
     "text": [
      "(-121, 105)\n"
     ]
    }
   ],
   "source": [
    "def extgcd(x, y):\n",
    "    if x < y:\n",
    "        gcd, (b0, a0) = extgcd(y, x)\n",
    "        return gcd, (a0, b0)\n",
    "\n",
    "    a0, b0 = 1, 0\n",
    "    a1, b1 = 0, 1\n",
    "\n",
    "    while y != 0:\n",
    "        t = x // y\n",
    "        a0, b0, a1, b1 = a1, b1, a0 - t * a1, b0 - t * b1\n",
    "        x, y = y, x % y\n",
    "\n",
    "    return x, (a0, b0)\n",
    "\n",
    "def chinese_remainder_theorem(lst):\n",
    "    assert len(lst) >= 1\n",
    "\n",
    "    a0, n0 = lst[0]\n",
    "    for (a1, n1) in lst[1:]:\n",
    "        g, (a, b) = extgcd(n0, n1)\n",
    "        assert g == 1\n",
    "\n",
    "        be = b * (a0 - a1)\n",
    "        a0, n0 = n1 * be + a1, n0 * n1\n",
    "\n",
    "    return a0, n0\n",
    "\n",
    "\n",
    "lst = [(2, 3), (4, 5), (5, 7)] # 89\n",
    "print(chinese_remainder_theorem(lst))"
   ]
  },
  {
   "cell_type": "code",
   "execution_count": null,
   "metadata": {},
   "outputs": [],
   "source": []
  }
 ],
 "metadata": {
  "kernelspec": {
   "display_name": "Python 3",
   "language": "python",
   "name": "python3"
  },
  "language_info": {
   "codemirror_mode": {
    "name": "ipython",
    "version": 3
   },
   "file_extension": ".py",
   "mimetype": "text/x-python",
   "name": "python",
   "nbconvert_exporter": "python",
   "pygments_lexer": "ipython3",
   "version": "3.8.5"
  }
 },
 "nbformat": 4,
 "nbformat_minor": 4
}
