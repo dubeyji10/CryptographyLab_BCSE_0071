{
 "cells": [
  {
   "cell_type": "markdown",
   "metadata": {},
   "source": [
    "# A program in to implement Autokey Cipher"
   ]
  },
  {
   "cell_type": "code",
   "execution_count": 1,
   "metadata": {},
   "outputs": [
    {
     "name": "stdout",
     "output_type": "stream",
     "text": [
      "{'A': 0, 'B': 1, 'C': 2, 'D': 3, 'E': 4, 'F': 5, 'G': 6, 'H': 7, 'I': 8, 'J': 9, 'K': 10, 'L': 11, 'M': 12, 'N': 13, 'O': 14, 'P': 15, 'Q': 16, 'R': 17, 'S': 18, 'T': 19, 'U': 20, 'V': 21, 'W': 22, 'X': 23, 'Y': 24, 'Z': 25} \n",
      " ------------------------------------------- \n",
      " {0: 'A', 1: 'B', 2: 'C', 3: 'D', 4: 'E', 5: 'F', 6: 'G', 7: 'H', 8: 'I', 9: 'J', 10: 'K', 11: 'L', 12: 'M', 13: 'N', 14: 'O', 15: 'P', 16: 'Q', 17: 'R', 18: 'S', 19: 'T', 20: 'U', 21: 'V', 22: 'W', 23: 'X', 24: 'Y', 25: 'Z'}\n"
     ]
    }
   ],
   "source": [
    "dict1 = {chr(65+i):i for i in range(26)}\n",
    "dict2 = {i:chr(65+i) for i in range(26)}\n",
    "\n",
    "print(dict1,'\\n','-'*43,'\\n',dict2)"
   ]
  },
  {
   "cell_type": "code",
   "execution_count": 2,
   "metadata": {},
   "outputs": [],
   "source": [
    "def generate_key(message, key):\n",
    "    i = 0\n",
    "    while True:\n",
    "        if len(key) == len(message):\n",
    "            break\n",
    "        if message[i] == ' ':\n",
    "            i += 1\n",
    "        else:\n",
    "            key += message[i]\n",
    "            i += 1\n",
    "    return key\n",
    "\n",
    "\n",
    "def cipherText(message, key_new):\n",
    "    cipher_text = ''\n",
    "    i = 0\n",
    "    for letter in message:\n",
    "        if letter == ' ':\n",
    "            cipher_text += ' '\n",
    "        else:\n",
    "            x = (dict1[letter]+dict1[key_new[i]]) % 26\n",
    "            i += 1\n",
    "            cipher_text += dict2[x]\n",
    "    return cipher_text\n",
    "\n",
    "\n",
    "def originalText(cipher_text, key_new):\n",
    "    or_txt = ''\n",
    "    i = 0\n",
    "    for letter in cipher_text:\n",
    "        if letter == ' ':\n",
    "            or_txt += ' '\n",
    "        else:\n",
    "            x = (dict1[letter]-dict1[key_new[i]]+26) % 26\n",
    "            i += 1\n",
    "            or_txt += dict2[x]\n",
    "    return or_txt\n",
    "\n"
   ]
  },
  {
   "cell_type": "code",
   "execution_count": 3,
   "metadata": {},
   "outputs": [
    {
     "name": "stdout",
     "output_type": "stream",
     "text": [
      "Encrypted Text = ULPWZ\n",
      "Original Text = HELLO\n"
     ]
    }
   ],
   "source": [
    "message = 'HELLO'\n",
    "key = 'N'\n",
    "key_new = generate_key(message, key)\n",
    "cipher_text = cipherText(message, key_new)\n",
    "original_text = originalText(cipher_text, key_new)\n",
    "print(\"Encrypted Text =\", cipher_text)\n",
    "print(\"Original Text =\", original_text)"
   ]
  },
  {
   "cell_type": "code",
   "execution_count": null,
   "metadata": {},
   "outputs": [],
   "source": []
  }
 ],
 "metadata": {
  "kernelspec": {
   "display_name": "Python 3",
   "language": "python",
   "name": "python3"
  },
  "language_info": {
   "codemirror_mode": {
    "name": "ipython",
    "version": 3
   },
   "file_extension": ".py",
   "mimetype": "text/x-python",
   "name": "python",
   "nbconvert_exporter": "python",
   "pygments_lexer": "ipython3",
   "version": "3.8.5"
  }
 },
 "nbformat": 4,
 "nbformat_minor": 4
}
